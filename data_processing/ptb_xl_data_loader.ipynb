{
 "cells": [
  {
   "cell_type": "markdown",
   "id": "c04d6463-06d3-45b1-a7a0-86eb5238bc75",
   "metadata": {},
   "source": [
    "To solve the ecg-classification task the **PTB XL ecg dataset** with 21799 clinical 12-lead ECGs from 18869 patients of 10 second length will be used.\n",
    "\n",
    "This is a large public dataset that can be used for supervised learning.\n",
    "\n",
    "More information about this dataset you can find here: https://physionet.org/content/ptb-xl/1.0.3/"
   ]
  },
  {
   "cell_type": "code",
   "execution_count": 1,
   "id": "d775a228-9909-4dfc-b552-b74b53577156",
   "metadata": {},
   "outputs": [],
   "source": [
    "import functools\n",
    "import pathlib\n",
    "import shutil\n",
    "import requests\n",
    "from tqdm.auto import tqdm\n",
    "\n",
    "def download_file(url, dest_filename):\n",
    "    \"\"\"\n",
    "    Download the file by its url saving it to the destination path (displaying the progress bar)\n",
    "    \"\"\"\n",
    "    request = requests.get(url, stream=True, allow_redirects=True)\n",
    "    \n",
    "    if request.status_code != 200 :\n",
    "        request.raise_for_status()  # will only raise for 4xx codes\n",
    "        raise RuntimeError(f\"Request to {url} returned status code {request.status_code}\")\n",
    "    \n",
    "    file_size = int(request.headers.get('Content-Length', 0))\n",
    "\n",
    "    dest_path = pathlib.Path(dest_filename).expanduser().resolve() # expand ~ and ~user constructs\n",
    "    dest_path.parent.mkdir(parents=True, exist_ok=True) # if subdirectories are needed to create\n",
    "    print(f\"The file will be saved here: {dest_path}\")\n",
    "\n",
    "    desc = \"(Unknown total file size)\" if file_size == 0 else \"\"\n",
    "    \n",
    "    request.raw.read = functools.partial(request.raw.read, decode_content=True)  # Decompress if needed\n",
    "    \n",
    "    with tqdm.wrapattr(request.raw, \"read\", total=file_size, desc=desc) as r_raw :\n",
    "        with dest_path.open(\"wb\") as f :\n",
    "            shutil.copyfileobj(r_raw, f)\n",
    "\n",
    "    return dest_path"
   ]
  },
  {
   "cell_type": "markdown",
   "id": "94a6457d-d718-42f1-9152-a49914da0f81",
   "metadata": {},
   "source": [
    "Download the PTB XL dataset via HTTP by its link. Note that the archive size is about 1.7 Gb."
   ]
  },
  {
   "cell_type": "code",
   "execution_count": 2,
   "id": "67189954-e6c3-4ea0-ad4f-5f3a74cb5520",
   "metadata": {},
   "outputs": [],
   "source": [
    "from os import path as Path\n",
    "\n",
    "# make sure that the link is valid by visiting the official resource page:\n",
    "# https://physionet.org/content/ptb-xl/1.0.3/\n",
    "ptb_xl_data_link = \"https://physionet.org/static/published-projects/ptb-xl/ptb-xl-a-large-publicly-available-electrocardiography-dataset-1.0.3.zip\"\n",
    "data_dir = \"../data\"\n",
    "dest_archive = Path.join(data_dir, \"ptbxl.zip\")\n",
    "\n",
    "if not Path.exists(dest_archive) :\n",
    "    download_file(ptb_xl_data_link, dest_archive)"
   ]
  },
  {
   "cell_type": "markdown",
   "id": "4350b550-84a7-4c71-a158-52e360a0dbd4",
   "metadata": {},
   "source": [
    "For furher processing we need only:\n",
    "- the files from the records500 folder\n",
    "- ptbxl_database.csv"
   ]
  },
  {
   "cell_type": "code",
   "execution_count": 3,
   "id": "a9eca555-7fef-475e-b5fc-11465d2fbd0c",
   "metadata": {},
   "outputs": [],
   "source": [
    "import os\n",
    "import zipfile\n",
    "import shutil\n",
    "from zipfile import Path as ZipPath\n",
    "\n",
    "def extract_from_zip(zip_file, paths, dest_folder, zip_folder='') :\n",
    "    \"\"\"\n",
    "    Copy files and folders from zip file (or the specified folder in zip file) to the destination folder\n",
    "    \"\"\"\n",
    "    if not Path.exists(zip_file) or not zipfile.is_zipfile(zip_file) or not paths : return\n",
    "    if not Path.exists(dest_folder) : Path.mkdir(dest_folder)\n",
    "\n",
    "    selected_paths = list(map(lambda x: fix_slash(Path.join(zip_file, zip_folder, x)), paths))\n",
    "    zip_files = []\n",
    "    \n",
    "    with zipfile.ZipFile(zip_file) as z :\n",
    "        for path in selected_paths :\n",
    "            zip_files.extend(get_zip_files(ZipPath(z), path, dest_folder))\n",
    "        # it's much faster to extract the whole archive than copy files iteratively\n",
    "        all_zip_files = z.namelist()\n",
    "        inner_zip_files = set(map(lambda x: x.replace(fix_slash(zip_file), \"\")[1:], zip_files))\n",
    "        files_to_remove = list(set(all_zip_files) - inner_zip_files)\n",
    "        files_to_remove = list(map(lambda x: f\"{dest_folder}/{x}\", files_to_remove))\n",
    "        shutil.unpack_archive(zip_file, dest_folder) # unpack all the files to speed up process\n",
    "\n",
    "    for zipf in files_to_remove : # remove unneeded files\n",
    "        os.remove(zipf)\n",
    "\n",
    "\n",
    "def get_zip_files(root, pattern, dest, flist = []) :\n",
    "    \"\"\"\n",
    "    Get the list of all the file paths that match the pattern\n",
    "    \"\"\"\n",
    "    for child in root.iterdir() :\n",
    "        str_child = fix_slash(child)\n",
    "        if child.is_file() :\n",
    "            if str_child.startswith(pattern) :\n",
    "               flist.append(str_child)\n",
    "        if child.is_dir() :\n",
    "            get_zip_files(child, str_child if str_child.startswith(pattern) else pattern, dest, flist)\n",
    "\n",
    "    return flist\n",
    "\n",
    "def fix_slash(path) : return str(path).replace(\"\\\\\", \"/\").replace(\"\\\\\\\\\", \"/\")"
   ]
  },
  {
   "cell_type": "markdown",
   "id": "9a442e1d-c7bf-4855-bfec-5a30b14f1dba",
   "metadata": {},
   "source": [
    "Let's copy the target files from the archive with the declared methods. Note, that there are thousands binary files, so it may take some time to copy them."
   ]
  },
  {
   "cell_type": "code",
   "execution_count": 4,
   "id": "5aa646fe-7acd-48c7-8f05-42fa3c443689",
   "metadata": {},
   "outputs": [
    {
     "name": "stdout",
     "output_type": "stream",
     "text": [
      "Start data extracting...\n",
      "Data is extracted here ../data/ptb-xl-a-large-publicly-available-electrocardiography-dataset-1.0.3\n"
     ]
    }
   ],
   "source": [
    "root_name = \"ptb-xl-a-large-publicly-available-electrocardiography-dataset-1.0.3\"\n",
    "raw_ecg_folder = \"records500/\"\n",
    "annotations_file = \"ptbxl_database.csv\"\n",
    "extracted_folder = fix_slash(Path.join(data_dir, root_name))\n",
    "\n",
    "if not Path.exists(Path.join(extracted_folder, raw_ecg_folder)) :\n",
    "    print(\"Start data extracting...\")\n",
    "    extract_from_zip(dest_archive, [raw_ecg_folder, annotations_file], data_dir, root_name)\n",
    "    print(f\"Data is extracted here {extracted_folder}\")\n",
    "else:\n",
    "    print(f\"The data is already extracted here {extracted_folder}\")\n"
   ]
  }
 ],
 "metadata": {
  "kernelspec": {
   "display_name": "Python 3 (ipykernel)",
   "language": "python",
   "name": "python3"
  },
  "language_info": {
   "codemirror_mode": {
    "name": "ipython",
    "version": 3
   },
   "file_extension": ".py",
   "mimetype": "text/x-python",
   "name": "python",
   "nbconvert_exporter": "python",
   "pygments_lexer": "ipython3",
   "version": "3.9.18"
  }
 },
 "nbformat": 4,
 "nbformat_minor": 5
}
